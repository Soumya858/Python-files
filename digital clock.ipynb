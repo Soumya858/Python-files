{
 "cells": [
  {
   "cell_type": "code",
   "execution_count": null,
   "id": "c3b2c711",
   "metadata": {},
   "outputs": [],
   "source": [
    "\n",
    "from tkinter import *\n",
    "from tkinter.ttk import *\n",
    " \n",
    "\n",
    "from time import strftime\n",
    " \n",
    "\n",
    "root = Tk()\n",
    "root.title('Clock')\n",
    " \n",
    " \n",
    "def time():\n",
    "    string = strftime('%H:%M:%S %p')\n",
    "    lbl.config(text=string)\n",
    "    lbl.after(1000, time)\n",
    " \n",
    " \n",
    "\n",
    "lbl = Label(root, font=('Helvetica', 40, 'italic'),\n",
    "            background='black',\n",
    "            foreground='white')\n",
    " \n",
    "lbl.pack(anchor='center')\n",
    "time()\n",
    " \n",
    "mainloop()"
   ]
  },
  {
   "cell_type": "code",
   "execution_count": null,
   "id": "0ac60bc4",
   "metadata": {},
   "outputs": [],
   "source": []
  },
  {
   "cell_type": "code",
   "execution_count": null,
   "id": "eb1f16db",
   "metadata": {},
   "outputs": [],
   "source": []
  }
 ],
 "metadata": {
  "kernelspec": {
   "display_name": "Python 3 (ipykernel)",
   "language": "python",
   "name": "python3"
  },
  "language_info": {
   "codemirror_mode": {
    "name": "ipython",
    "version": 3
   },
   "file_extension": ".py",
   "mimetype": "text/x-python",
   "name": "python",
   "nbconvert_exporter": "python",
   "pygments_lexer": "ipython3",
   "version": "3.9.12"
  }
 },
 "nbformat": 4,
 "nbformat_minor": 5
}
